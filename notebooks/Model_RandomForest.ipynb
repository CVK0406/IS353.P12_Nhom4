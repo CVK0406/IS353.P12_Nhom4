{
 "cells": [
  {
   "cell_type": "code",
   "execution_count": 1,
   "metadata": {
    "executionInfo": {
     "elapsed": 786,
     "status": "ok",
     "timestamp": 1733223092287,
     "user": {
      "displayName": "Tam Huynh",
      "userId": "02513168769586567278"
     },
     "user_tz": -420
    },
    "id": "TRYGN3yINkUt"
   },
   "outputs": [],
   "source": [
    "import pandas as pd\n",
    "import numpy as np\n",
    "from sklearn.ensemble import RandomForestRegressor\n",
    "from sklearn.model_selection import train_test_split\n",
    "from sklearn.metrics import mean_absolute_error, mean_squared_error, r2_score\n",
    "from sklearn.preprocessing import OrdinalEncoder\n",
    "import matplotlib.pyplot as plt\n",
    "import joblib"
   ]
  },
  {
   "cell_type": "code",
   "execution_count": 2,
   "metadata": {
    "executionInfo": {
     "elapsed": 884,
     "status": "ok",
     "timestamp": 1733223100043,
     "user": {
      "displayName": "Tam Huynh",
      "userId": "02513168769586567278"
     },
     "user_tz": -420
    },
    "id": "1Ry4xemFOEUh"
   },
   "outputs": [],
   "source": [
    "df = pd.read_csv(\"../data/processed/final_data.csv\")"
   ]
  },
  {
   "cell_type": "code",
   "execution_count": 3,
   "metadata": {
    "colab": {
     "base_uri": "https://localhost:8080/"
    },
    "executionInfo": {
     "elapsed": 684,
     "status": "ok",
     "timestamp": 1733223102631,
     "user": {
      "displayName": "Tam Huynh",
      "userId": "02513168769586567278"
     },
     "user_tz": -420
    },
    "id": "2aMAG-E2Qn3B",
    "outputId": "5f9259ba-ffb0-4890-e694-17113d448c31"
   },
   "outputs": [
    {
     "name": "stdout",
     "output_type": "stream",
     "text": [
      "                                       mssv  hocky  namhoc  dtbhk  sotchk  \\\n",
      "0  0000AC05XPvAibaEXe9B2tolTZ0JLoBGbkQixQS6    2.0  2021.0   8.28    21.0   \n",
      "1  0000AC05XPvAibaEXe9B2tolTZ0JLoBGbkQixQS6    1.0  2022.0   7.56    16.0   \n",
      "2  0001EB57XPvAibaEXe/twT+sf632fUXnsgPGeB4G    2.0  2019.0   9.00    21.0   \n",
      "3  0001EB57XPvAibaEXe/twT+sf632fUXnsgPGeB4G    1.0  2020.0   9.11    15.0   \n",
      "4  0001EB57XPvAibaEXe/twT+sf632fUXnsgPGeB4G    2.0  2020.0   8.75    19.0   \n",
      "\n",
      "        id   namsinh   gioitinh     noisinh      lopsh   khoahoc   tinhtrang  \\\n",
      "0      NaN       NaN        NaN         NaN        NaN       NaN         NaN   \n",
      "1      NaN       NaN        NaN         NaN        NaN       NaN         NaN   \n",
      "2  18570.0    2001.0        0.0   'Nghệ An'   TMĐT2019      14.0         1.0   \n",
      "3  18570.0    2001.0        0.0   'Nghệ An'   TMĐT2019      14.0         1.0   \n",
      "4  18570.0    2001.0        0.0   'Nghệ An'   TMĐT2019      14.0         1.0   \n",
      "\n",
      "     diachi_tinhtp Column1  dtbhk2   khoa_mahoa   hedt_mahoa  \\\n",
      "0              NaN     NaN    7.79          6.0          5.0   \n",
      "1              NaN     NaN    8.28          6.0          5.0   \n",
      "2   'Tỉnh Gia Lai'     NaN    8.84          1.0          2.0   \n",
      "3   'Tỉnh Gia Lai'     NaN    9.00          1.0          2.0   \n",
      "4   'Tỉnh Gia Lai'     NaN    9.11          1.0          2.0   \n",
      "\n",
      "    chuyennganh2_mahoa  \n",
      "0                 12.0  \n",
      "1                 12.0  \n",
      "2                  9.0  \n",
      "3                  9.0  \n",
      "4                  9.0  \n"
     ]
    }
   ],
   "source": [
    "\n",
    "# Các cột cần mã hóa\n",
    "ordinal_features = [' khoa', ' hedt', ' chuyennganh2']\n",
    "\n",
    "df[ordinal_features] = df[ordinal_features].fillna('Unknown')\n",
    "\n",
    "encoder = OrdinalEncoder()\n",
    "df_encoded = encoder.fit_transform(df[ordinal_features])\n",
    "\n",
    "df_encoded = pd.DataFrame(df_encoded, columns=[f\"{col}_mahoa\" for col in ordinal_features], index=df.index)\n",
    "\n",
    "df = pd.concat([df, df_encoded], axis=1)\n",
    "\n",
    "df.drop(columns=ordinal_features, inplace=True)\n",
    "\n",
    "\n",
    "print(df.head())\n"
   ]
  },
  {
   "cell_type": "code",
   "execution_count": 4,
   "metadata": {
    "executionInfo": {
     "elapsed": 332,
     "status": "ok",
     "timestamp": 1733223105056,
     "user": {
      "displayName": "Tam Huynh",
      "userId": "02513168769586567278"
     },
     "user_tz": -420
    },
    "id": "9cODvh_5Nuci"
   },
   "outputs": [],
   "source": [
    "# Xử lý NaN\n",
    "df = df.fillna(df.median(numeric_only=True))\n",
    "df = df.fillna(df.mode().iloc[0])\n",
    "\n",
    "# Chọn biến đầu vào và đầu ra\n",
    "X = df.drop(columns=['nhom', 'dtbhk', 'id', ' namsinh', 'mssv', ' noisinh', ' diachi_tinhtp', 'Column1', ' lopsh'], errors='ignore')  # Xóa cột không cần thiết\n",
    "y = df['dtbhk']\n"
   ]
  },
  {
   "cell_type": "code",
   "execution_count": 5,
   "metadata": {
    "colab": {
     "base_uri": "https://localhost:8080/"
    },
    "executionInfo": {
     "elapsed": 339,
     "status": "ok",
     "timestamp": 1733222506442,
     "user": {
      "displayName": "Tam Huynh",
      "userId": "02513168769586567278"
     },
     "user_tz": -420
    },
    "id": "O1emjgbJTjzm",
    "outputId": "b1a3e2c9-c51e-4cb7-a8cd-95bf537d78a5"
   },
   "outputs": [
    {
     "name": "stdout",
     "output_type": "stream",
     "text": [
      "<class 'pandas.core.frame.DataFrame'>\n",
      "RangeIndex: 66139 entries, 0 to 66138\n",
      "Data columns (total 18 columns):\n",
      " #   Column               Non-Null Count  Dtype  \n",
      "---  ------               --------------  -----  \n",
      " 0   mssv                 66139 non-null  object \n",
      " 1   hocky                66139 non-null  float64\n",
      " 2   namhoc               66139 non-null  float64\n",
      " 3   dtbhk                66139 non-null  float64\n",
      " 4   sotchk               66139 non-null  float64\n",
      " 5   id                   66139 non-null  float64\n",
      " 6    namsinh             66139 non-null  float64\n",
      " 7    gioitinh            66139 non-null  float64\n",
      " 8    noisinh             66139 non-null  object \n",
      " 9    lopsh               66139 non-null  object \n",
      " 10   khoahoc             66139 non-null  float64\n",
      " 11   tinhtrang           66139 non-null  float64\n",
      " 12   diachi_tinhtp       66139 non-null  object \n",
      " 13  Column1              66139 non-null  object \n",
      " 14  dtbhk2               66139 non-null  float64\n",
      " 15   khoa_mahoa          66139 non-null  float64\n",
      " 16   hedt_mahoa          66139 non-null  float64\n",
      " 17   chuyennganh2_mahoa  66139 non-null  float64\n",
      "dtypes: float64(13), object(5)\n",
      "memory usage: 9.1+ MB\n"
     ]
    }
   ],
   "source": [
    "df.info()"
   ]
  },
  {
   "cell_type": "code",
   "execution_count": 6,
   "metadata": {
    "colab": {
     "base_uri": "https://localhost:8080/",
     "height": 206
    },
    "executionInfo": {
     "elapsed": 348,
     "status": "ok",
     "timestamp": 1732940693414,
     "user": {
      "displayName": "Tam Huynh",
      "userId": "02513168769586567278"
     },
     "user_tz": -420
    },
    "id": "ooj00faiSjjv",
    "outputId": "e30b82fb-ca4d-48b9-87da-6e125f68926b"
   },
   "outputs": [
    {
     "data": {
      "text/html": [
       "<div>\n",
       "<style scoped>\n",
       "    .dataframe tbody tr th:only-of-type {\n",
       "        vertical-align: middle;\n",
       "    }\n",
       "\n",
       "    .dataframe tbody tr th {\n",
       "        vertical-align: top;\n",
       "    }\n",
       "\n",
       "    .dataframe thead th {\n",
       "        text-align: right;\n",
       "    }\n",
       "</style>\n",
       "<table border=\"1\" class=\"dataframe\">\n",
       "  <thead>\n",
       "    <tr style=\"text-align: right;\">\n",
       "      <th></th>\n",
       "      <th>hocky</th>\n",
       "      <th>namhoc</th>\n",
       "      <th>sotchk</th>\n",
       "      <th>gioitinh</th>\n",
       "      <th>khoahoc</th>\n",
       "      <th>tinhtrang</th>\n",
       "      <th>dtbhk2</th>\n",
       "      <th>khoa_mahoa</th>\n",
       "      <th>hedt_mahoa</th>\n",
       "      <th>chuyennganh2_mahoa</th>\n",
       "    </tr>\n",
       "  </thead>\n",
       "  <tbody>\n",
       "    <tr>\n",
       "      <th>0</th>\n",
       "      <td>2.0</td>\n",
       "      <td>2021.0</td>\n",
       "      <td>21.0</td>\n",
       "      <td>1.0</td>\n",
       "      <td>11.0</td>\n",
       "      <td>1.0</td>\n",
       "      <td>7.79</td>\n",
       "      <td>6.0</td>\n",
       "      <td>5.0</td>\n",
       "      <td>12.0</td>\n",
       "    </tr>\n",
       "    <tr>\n",
       "      <th>1</th>\n",
       "      <td>1.0</td>\n",
       "      <td>2022.0</td>\n",
       "      <td>16.0</td>\n",
       "      <td>1.0</td>\n",
       "      <td>11.0</td>\n",
       "      <td>1.0</td>\n",
       "      <td>8.28</td>\n",
       "      <td>6.0</td>\n",
       "      <td>5.0</td>\n",
       "      <td>12.0</td>\n",
       "    </tr>\n",
       "    <tr>\n",
       "      <th>2</th>\n",
       "      <td>2.0</td>\n",
       "      <td>2019.0</td>\n",
       "      <td>21.0</td>\n",
       "      <td>0.0</td>\n",
       "      <td>14.0</td>\n",
       "      <td>1.0</td>\n",
       "      <td>8.84</td>\n",
       "      <td>1.0</td>\n",
       "      <td>2.0</td>\n",
       "      <td>9.0</td>\n",
       "    </tr>\n",
       "    <tr>\n",
       "      <th>3</th>\n",
       "      <td>1.0</td>\n",
       "      <td>2020.0</td>\n",
       "      <td>15.0</td>\n",
       "      <td>0.0</td>\n",
       "      <td>14.0</td>\n",
       "      <td>1.0</td>\n",
       "      <td>9.00</td>\n",
       "      <td>1.0</td>\n",
       "      <td>2.0</td>\n",
       "      <td>9.0</td>\n",
       "    </tr>\n",
       "    <tr>\n",
       "      <th>4</th>\n",
       "      <td>2.0</td>\n",
       "      <td>2020.0</td>\n",
       "      <td>19.0</td>\n",
       "      <td>0.0</td>\n",
       "      <td>14.0</td>\n",
       "      <td>1.0</td>\n",
       "      <td>9.11</td>\n",
       "      <td>1.0</td>\n",
       "      <td>2.0</td>\n",
       "      <td>9.0</td>\n",
       "    </tr>\n",
       "  </tbody>\n",
       "</table>\n",
       "</div>"
      ],
      "text/plain": [
       "   hocky  namhoc  sotchk   gioitinh   khoahoc   tinhtrang  dtbhk2  \\\n",
       "0    2.0  2021.0    21.0        1.0      11.0         1.0    7.79   \n",
       "1    1.0  2022.0    16.0        1.0      11.0         1.0    8.28   \n",
       "2    2.0  2019.0    21.0        0.0      14.0         1.0    8.84   \n",
       "3    1.0  2020.0    15.0        0.0      14.0         1.0    9.00   \n",
       "4    2.0  2020.0    19.0        0.0      14.0         1.0    9.11   \n",
       "\n",
       "    khoa_mahoa   hedt_mahoa   chuyennganh2_mahoa  \n",
       "0          6.0          5.0                 12.0  \n",
       "1          6.0          5.0                 12.0  \n",
       "2          1.0          2.0                  9.0  \n",
       "3          1.0          2.0                  9.0  \n",
       "4          1.0          2.0                  9.0  "
      ]
     },
     "execution_count": 6,
     "metadata": {},
     "output_type": "execute_result"
    }
   ],
   "source": [
    "X.head(5)"
   ]
  },
  {
   "cell_type": "code",
   "execution_count": 7,
   "metadata": {
    "executionInfo": {
     "elapsed": 317,
     "status": "ok",
     "timestamp": 1733223108547,
     "user": {
      "displayName": "Tam Huynh",
      "userId": "02513168769586567278"
     },
     "user_tz": -420
    },
    "id": "1ikqXXyJN0Uj"
   },
   "outputs": [],
   "source": [
    "X_train, X_test, y_train, y_test = train_test_split(X, y, test_size=0.2, random_state=42)\n"
   ]
  },
  {
   "cell_type": "code",
   "execution_count": 8,
   "metadata": {
    "colab": {
     "base_uri": "https://localhost:8080/",
     "height": 80
    },
    "executionInfo": {
     "elapsed": 24358,
     "status": "ok",
     "timestamp": 1733223133951,
     "user": {
      "displayName": "Tam Huynh",
      "userId": "02513168769586567278"
     },
     "user_tz": -420
    },
    "id": "XaM-ziiON3Ba",
    "outputId": "d68ffd74-5725-47ca-9af6-9d12b0280e63"
   },
   "outputs": [
    {
     "data": {
      "text/html": [
       "<style>#sk-container-id-1 {color: black;}#sk-container-id-1 pre{padding: 0;}#sk-container-id-1 div.sk-toggleable {background-color: white;}#sk-container-id-1 label.sk-toggleable__label {cursor: pointer;display: block;width: 100%;margin-bottom: 0;padding: 0.3em;box-sizing: border-box;text-align: center;}#sk-container-id-1 label.sk-toggleable__label-arrow:before {content: \"▸\";float: left;margin-right: 0.25em;color: #696969;}#sk-container-id-1 label.sk-toggleable__label-arrow:hover:before {color: black;}#sk-container-id-1 div.sk-estimator:hover label.sk-toggleable__label-arrow:before {color: black;}#sk-container-id-1 div.sk-toggleable__content {max-height: 0;max-width: 0;overflow: hidden;text-align: left;background-color: #f0f8ff;}#sk-container-id-1 div.sk-toggleable__content pre {margin: 0.2em;color: black;border-radius: 0.25em;background-color: #f0f8ff;}#sk-container-id-1 input.sk-toggleable__control:checked~div.sk-toggleable__content {max-height: 200px;max-width: 100%;overflow: auto;}#sk-container-id-1 input.sk-toggleable__control:checked~label.sk-toggleable__label-arrow:before {content: \"▾\";}#sk-container-id-1 div.sk-estimator input.sk-toggleable__control:checked~label.sk-toggleable__label {background-color: #d4ebff;}#sk-container-id-1 div.sk-label input.sk-toggleable__control:checked~label.sk-toggleable__label {background-color: #d4ebff;}#sk-container-id-1 input.sk-hidden--visually {border: 0;clip: rect(1px 1px 1px 1px);clip: rect(1px, 1px, 1px, 1px);height: 1px;margin: -1px;overflow: hidden;padding: 0;position: absolute;width: 1px;}#sk-container-id-1 div.sk-estimator {font-family: monospace;background-color: #f0f8ff;border: 1px dotted black;border-radius: 0.25em;box-sizing: border-box;margin-bottom: 0.5em;}#sk-container-id-1 div.sk-estimator:hover {background-color: #d4ebff;}#sk-container-id-1 div.sk-parallel-item::after {content: \"\";width: 100%;border-bottom: 1px solid gray;flex-grow: 1;}#sk-container-id-1 div.sk-label:hover label.sk-toggleable__label {background-color: #d4ebff;}#sk-container-id-1 div.sk-serial::before {content: \"\";position: absolute;border-left: 1px solid gray;box-sizing: border-box;top: 0;bottom: 0;left: 50%;z-index: 0;}#sk-container-id-1 div.sk-serial {display: flex;flex-direction: column;align-items: center;background-color: white;padding-right: 0.2em;padding-left: 0.2em;position: relative;}#sk-container-id-1 div.sk-item {position: relative;z-index: 1;}#sk-container-id-1 div.sk-parallel {display: flex;align-items: stretch;justify-content: center;background-color: white;position: relative;}#sk-container-id-1 div.sk-item::before, #sk-container-id-1 div.sk-parallel-item::before {content: \"\";position: absolute;border-left: 1px solid gray;box-sizing: border-box;top: 0;bottom: 0;left: 50%;z-index: -1;}#sk-container-id-1 div.sk-parallel-item {display: flex;flex-direction: column;z-index: 1;position: relative;background-color: white;}#sk-container-id-1 div.sk-parallel-item:first-child::after {align-self: flex-end;width: 50%;}#sk-container-id-1 div.sk-parallel-item:last-child::after {align-self: flex-start;width: 50%;}#sk-container-id-1 div.sk-parallel-item:only-child::after {width: 0;}#sk-container-id-1 div.sk-dashed-wrapped {border: 1px dashed gray;margin: 0 0.4em 0.5em 0.4em;box-sizing: border-box;padding-bottom: 0.4em;background-color: white;}#sk-container-id-1 div.sk-label label {font-family: monospace;font-weight: bold;display: inline-block;line-height: 1.2em;}#sk-container-id-1 div.sk-label-container {text-align: center;}#sk-container-id-1 div.sk-container {/* jupyter's `normalize.less` sets `[hidden] { display: none; }` but bootstrap.min.css set `[hidden] { display: none !important; }` so we also need the `!important` here to be able to override the default hidden behavior on the sphinx rendered scikit-learn.org. See: https://github.com/scikit-learn/scikit-learn/issues/21755 */display: inline-block !important;position: relative;}#sk-container-id-1 div.sk-text-repr-fallback {display: none;}</style><div id=\"sk-container-id-1\" class=\"sk-top-container\"><div class=\"sk-text-repr-fallback\"><pre>RandomForestRegressor(random_state=42)</pre><b>In a Jupyter environment, please rerun this cell to show the HTML representation or trust the notebook. <br />On GitHub, the HTML representation is unable to render, please try loading this page with nbviewer.org.</b></div><div class=\"sk-container\" hidden><div class=\"sk-item\"><div class=\"sk-estimator sk-toggleable\"><input class=\"sk-toggleable__control sk-hidden--visually\" id=\"sk-estimator-id-1\" type=\"checkbox\" checked><label for=\"sk-estimator-id-1\" class=\"sk-toggleable__label sk-toggleable__label-arrow\">RandomForestRegressor</label><div class=\"sk-toggleable__content\"><pre>RandomForestRegressor(random_state=42)</pre></div></div></div></div></div>"
      ],
      "text/plain": [
       "RandomForestRegressor(random_state=42)"
      ]
     },
     "execution_count": 8,
     "metadata": {},
     "output_type": "execute_result"
    }
   ],
   "source": [
    "# Khởi tạo mô hình Random Forest\n",
    "rf_model = RandomForestRegressor(n_estimators=100, random_state=42)\n",
    "\n",
    "# Huấn luyện mô hình\n",
    "rf_model.fit(X_train, y_train)\n"
   ]
  },
  {
   "cell_type": "code",
   "execution_count": 9,
   "metadata": {
    "colab": {
     "base_uri": "https://localhost:8080/"
    },
    "executionInfo": {
     "elapsed": 1053,
     "status": "ok",
     "timestamp": 1733223137021,
     "user": {
      "displayName": "Tam Huynh",
      "userId": "02513168769586567278"
     },
     "user_tz": -420
    },
    "id": "lMnchuy6N4kp",
    "outputId": "6919efb7-5d9c-4f13-d453-8e6cf2c51f13"
   },
   "outputs": [
    {
     "name": "stdout",
     "output_type": "stream",
     "text": [
      "Mean Absolute Error (MAE): 0.8573227922533151\n",
      "Mean Squared Error (MSE): 1.5506936679462373\n",
      "Root Mean Squared Error (RMSE): 1.2452685123884877\n",
      "R^2 Score: 0.5826428837962947\n"
     ]
    }
   ],
   "source": [
    "# tập Test\n",
    "y_pred = rf_model.predict(X_test)\n",
    "\n",
    "# Đánh giá\n",
    "mae = mean_absolute_error(y_test, y_pred)\n",
    "mse = mean_squared_error(y_test, y_pred)\n",
    "rmse = np.sqrt(mse)\n",
    "r2 = r2_score(y_test, y_pred)\n",
    "\n",
    "print(f\"Mean Absolute Error (MAE): {mae}\")\n",
    "print(f\"Mean Squared Error (MSE): {mse}\")\n",
    "print(f\"Root Mean Squared Error (RMSE): {rmse}\")\n",
    "print(f\"R^2 Score: {r2}\")\n"
   ]
  },
  {
   "cell_type": "code",
   "execution_count": 10,
   "metadata": {
    "colab": {
     "base_uri": "https://localhost:8080/",
     "height": 564
    },
    "executionInfo": {
     "elapsed": 648,
     "status": "ok",
     "timestamp": 1733223141042,
     "user": {
      "displayName": "Tam Huynh",
      "userId": "02513168769586567278"
     },
     "user_tz": -420
    },
    "id": "5fTd0K6mN63C",
    "outputId": "9aeda5e6-f911-43ff-e431-51e43d3e2061"
   },
   "outputs": [
    {
     "data": {
      "image/png": "[encoded data removed]",
      "text/plain": [
       "<Figure size 1000x600 with 1 Axes>"
      ]
     },
     "metadata": {},
     "output_type": "display_data"
    }
   ],
   "source": [
    "\n",
    "# Tầm quan trọng của thuộc tính\n",
    "feature_importances = rf_model.feature_importances_\n",
    "features = X.columns\n",
    "\n",
    "\n",
    "plt.figure(figsize=(10, 6))\n",
    "plt.barh(features, feature_importances, color='skyblue')\n",
    "plt.xlabel(\"Importance Score\")\n",
    "plt.ylabel(\"Features\")\n",
    "plt.title(\"Feature Importance in Random Forest\")\n",
    "plt.show()\n"
   ]
  },
  {
   "cell_type": "code",
   "execution_count": 11,
   "metadata": {
    "executionInfo": {
     "elapsed": 314,
     "status": "ok",
     "timestamp": 1733223143204,
     "user": {
      "displayName": "Tam Huynh",
      "userId": "02513168769586567278"
     },
     "user_tz": -420
    },
    "id": "8wATd0lwPPVS"
   },
   "outputs": [],
   "source": [
    "test_row = pd.DataFrame({\n",
    "    'hocky': [2.0],\n",
    "    'namhoc': [2021.0],\n",
    "    'sotchk': [21.0],\n",
    "    ' gioitinh': [1.0],\n",
    "    ' khoahoc': [11.0],\n",
    "    ' tinhtrang': [1.0],\n",
    "    'dtbhk2': [5],\n",
    "    ' khoa_mahoa': [2.0],\n",
    "    ' hedt_mahoa': [1.0],\n",
    "    ' chuyennganh2_mahoa': [4.0]\n",
    "})"
   ]
  },
  {
   "cell_type": "code",
   "execution_count": 12,
   "metadata": {
    "colab": {
     "base_uri": "https://localhost:8080/",
     "height": 81
    },
    "executionInfo": {
     "elapsed": 320,
     "status": "ok",
     "timestamp": 1733222558698,
     "user": {
      "displayName": "Tam Huynh",
      "userId": "02513168769586567278"
     },
     "user_tz": -420
    },
    "id": "d8MwgWhYP7JR",
    "outputId": "b7b6ecc3-f1a6-48ba-f3ae-5ed7050f56b0"
   },
   "outputs": [
    {
     "data": {
      "text/html": [
       "<div>\n",
       "<style scoped>\n",
       "    .dataframe tbody tr th:only-of-type {\n",
       "        vertical-align: middle;\n",
       "    }\n",
       "\n",
       "    .dataframe tbody tr th {\n",
       "        vertical-align: top;\n",
       "    }\n",
       "\n",
       "    .dataframe thead th {\n",
       "        text-align: right;\n",
       "    }\n",
       "</style>\n",
       "<table border=\"1\" class=\"dataframe\">\n",
       "  <thead>\n",
       "    <tr style=\"text-align: right;\">\n",
       "      <th></th>\n",
       "      <th>hocky</th>\n",
       "      <th>namhoc</th>\n",
       "      <th>sotchk</th>\n",
       "      <th>gioitinh</th>\n",
       "      <th>khoahoc</th>\n",
       "      <th>tinhtrang</th>\n",
       "      <th>dtbhk2</th>\n",
       "      <th>khoa_mahoa</th>\n",
       "      <th>hedt_mahoa</th>\n",
       "      <th>chuyennganh2_mahoa</th>\n",
       "    </tr>\n",
       "  </thead>\n",
       "  <tbody>\n",
       "    <tr>\n",
       "      <th>0</th>\n",
       "      <td>2.0</td>\n",
       "      <td>2021.0</td>\n",
       "      <td>21.0</td>\n",
       "      <td>1.0</td>\n",
       "      <td>11.0</td>\n",
       "      <td>1.0</td>\n",
       "      <td>5</td>\n",
       "      <td>2.0</td>\n",
       "      <td>1.0</td>\n",
       "      <td>4.0</td>\n",
       "    </tr>\n",
       "  </tbody>\n",
       "</table>\n",
       "</div>"
      ],
      "text/plain": [
       "   hocky  namhoc  sotchk   gioitinh   khoahoc   tinhtrang  dtbhk2  \\\n",
       "0    2.0  2021.0    21.0        1.0      11.0         1.0       5   \n",
       "\n",
       "    khoa_mahoa   hedt_mahoa   chuyennganh2_mahoa  \n",
       "0          2.0          1.0                  4.0  "
      ]
     },
     "execution_count": 12,
     "metadata": {},
     "output_type": "execute_result"
    }
   ],
   "source": [
    "test_row.head(5)"
   ]
  },
  {
   "cell_type": "code",
   "execution_count": 13,
   "metadata": {
    "colab": {
     "base_uri": "https://localhost:8080/"
    },
    "executionInfo": {
     "elapsed": 318,
     "status": "ok",
     "timestamp": 1733223145569,
     "user": {
      "displayName": "Tam Huynh",
      "userId": "02513168769586567278"
     },
     "user_tz": -420
    },
    "id": "IGkBz_KSPRBh",
    "outputId": "496795d2-11a1-43cb-d3f2-fadf91a53eea"
   },
   "outputs": [
    {
     "name": "stdout",
     "output_type": "stream",
     "text": [
      "Dự đoán DTBHK: 4.83\n"
     ]
    }
   ],
   "source": [
    "predicted_dtb = rf_model.predict(test_row)\n",
    "print(f\"Dự đoán DTBHK: {predicted_dtb[0]:.2f}\")"
   ]
  },
  {
   "cell_type": "code",
   "execution_count": 14,
   "metadata": {
    "colab": {
     "base_uri": "https://localhost:8080/"
    },
    "executionInfo": {
     "elapsed": 1540,
     "status": "ok",
     "timestamp": 1733223148888,
     "user": {
      "displayName": "Tam Huynh",
      "userId": "02513168769586567278"
     },
     "user_tz": -420
    },
    "id": "ObrMkTt0N7eS",
    "outputId": "50e78e8e-cdf1-4ea3-d13c-1879298405f8"
   },
   "outputs": [
    {
     "data": {
      "text/plain": [
       "['../models/random_forest_model.pkl']"
      ]
     },
     "execution_count": 14,
     "metadata": {},
     "output_type": "execute_result"
    }
   ],
   "source": [
    "joblib.dump(rf_model, '../models/random_forest_model.pkl')\n",
    "# rf_model = joblib.load('random_forest_dtbhk_model.pkl')\n"
   ]
  }
 ],
 "metadata": {
  "colab": {
   "authorship_tag": "ABX9TyMa1W6d6ZqUACYCk5B6F/iu",
   "provenance": []
  },
  "kernelspec": {
   "display_name": ".venv",
   "language": "python",
   "name": "python3"
  },
  "language_info": {
   "codemirror_mode": {
    "name": "ipython",
    "version": 3
   },
   "file_extension": ".py",
   "mimetype": "text/x-python",
   "name": "python",
   "nbconvert_exporter": "python",
   "pygments_lexer": "ipython3",
   "version": "3.12.0"
  }
 },
 "nbformat": 4,
 "nbformat_minor": 0
}
