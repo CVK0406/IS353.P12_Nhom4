{
 "cells": [
  {
   "cell_type": "code",
   "execution_count": 23,
   "metadata": {
    "executionInfo": {
     "elapsed": 3524,
     "status": "ok",
     "timestamp": 1733221963827,
     "user": {
      "displayName": "Tam Huynh",
      "userId": "02513168769586567278"
     },
     "user_tz": -420
    },
    "id": "iZK6MDzHXp2H"
   },
   "outputs": [],
   "source": [
    "import pandas as pd\n",
    "import numpy as np\n",
    "from sklearn.model_selection import train_test_split\n",
    "from sklearn.metrics import mean_absolute_error, mean_squared_error, r2_score\n",
    "from sklearn.preprocessing import OrdinalEncoder\n",
    "import matplotlib.pyplot as plt\n",
    "import joblib\n",
    "from sklearn.linear_model import LinearRegression"
   ]
  },
  {
   "cell_type": "code",
   "execution_count": 24,
   "metadata": {
    "executionInfo": {
     "elapsed": 2259,
     "status": "ok",
     "timestamp": 1733221989122,
     "user": {
      "displayName": "Tam Huynh",
      "userId": "02513168769586567278"
     },
     "user_tz": -420
    },
    "id": "7k0-DtuZCGup"
   },
   "outputs": [],
   "source": [
    "df = pd.read_csv(\"../data/processed/final_data.csv\")"
   ]
  },
  {
   "cell_type": "code",
   "execution_count": 25,
   "metadata": {
    "colab": {
     "base_uri": "https://localhost:8080/"
    },
    "executionInfo": {
     "elapsed": 560,
     "status": "ok",
     "timestamp": 1733221991055,
     "user": {
      "displayName": "Tam Huynh",
      "userId": "02513168769586567278"
     },
     "user_tz": -420
    },
    "id": "sVpDe13aCJnC",
    "outputId": "99e0e3fc-396e-4f4b-960f-8489c45bfbfc"
   },
   "outputs": [
    {
     "name": "stdout",
     "output_type": "stream",
     "text": [
      "                                       mssv  hocky  namhoc  dtbhk  sotchk  \\\n",
      "0  0000AC05XPvAibaEXe9B2tolTZ0JLoBGbkQixQS6    2.0  2021.0   8.28    21.0   \n",
      "1  0000AC05XPvAibaEXe9B2tolTZ0JLoBGbkQixQS6    1.0  2022.0   7.56    16.0   \n",
      "2  0001EB57XPvAibaEXe/twT+sf632fUXnsgPGeB4G    2.0  2019.0   9.00    21.0   \n",
      "3  0001EB57XPvAibaEXe/twT+sf632fUXnsgPGeB4G    1.0  2020.0   9.11    15.0   \n",
      "4  0001EB57XPvAibaEXe/twT+sf632fUXnsgPGeB4G    2.0  2020.0   8.75    19.0   \n",
      "\n",
      "        id   namsinh   gioitinh     noisinh      lopsh   khoahoc   tinhtrang  \\\n",
      "0      NaN       NaN        NaN         NaN        NaN       NaN         NaN   \n",
      "1      NaN       NaN        NaN         NaN        NaN       NaN         NaN   \n",
      "2  18570.0    2001.0        0.0   'Nghệ An'   TMĐT2019      14.0         1.0   \n",
      "3  18570.0    2001.0        0.0   'Nghệ An'   TMĐT2019      14.0         1.0   \n",
      "4  18570.0    2001.0        0.0   'Nghệ An'   TMĐT2019      14.0         1.0   \n",
      "\n",
      "     diachi_tinhtp Column1  dtbhk2   khoa_mahoa   hedt_mahoa  \\\n",
      "0              NaN     NaN    7.79          6.0          5.0   \n",
      "1              NaN     NaN    8.28          6.0          5.0   \n",
      "2   'Tỉnh Gia Lai'     NaN    8.84          1.0          2.0   \n",
      "3   'Tỉnh Gia Lai'     NaN    9.00          1.0          2.0   \n",
      "4   'Tỉnh Gia Lai'     NaN    9.11          1.0          2.0   \n",
      "\n",
      "    chuyennganh2_mahoa  \n",
      "0                 12.0  \n",
      "1                 12.0  \n",
      "2                  9.0  \n",
      "3                  9.0  \n",
      "4                  9.0  \n"
     ]
    }
   ],
   "source": [
    "ordinal_features = [' khoa', ' hedt', ' chuyennganh2']\n",
    "\n",
    "df[ordinal_features] = df[ordinal_features].fillna('Unknown')\n",
    "\n",
    "encoder = OrdinalEncoder()\n",
    "df_encoded = encoder.fit_transform(df[ordinal_features])\n",
    "\n",
    "df_encoded = pd.DataFrame(df_encoded, columns=[f\"{col}_mahoa\" for col in ordinal_features], index=df.index)\n",
    "\n",
    "df = pd.concat([df, df_encoded], axis=1)\n",
    "\n",
    "df.drop(columns=ordinal_features, inplace=True)\n",
    "\n",
    "\n",
    "print(df.head())"
   ]
  },
  {
   "cell_type": "code",
   "execution_count": 26,
   "metadata": {
    "executionInfo": {
     "elapsed": 342,
     "status": "ok",
     "timestamp": 1733221994072,
     "user": {
      "displayName": "Tam Huynh",
      "userId": "02513168769586567278"
     },
     "user_tz": -420
    },
    "id": "EnhqWUmfCKUJ"
   },
   "outputs": [],
   "source": [
    "# Xử lý NaN\n",
    "df = df.fillna(df.median(numeric_only=True))\n",
    "df = df.fillna(df.mode().iloc[0])\n",
    "\n",
    "# Chọn biến đầu vào và đầu ra\n",
    "X = df.drop(columns=['nhom', 'dtbhk', 'id', ' namsinh', 'mssv', ' noisinh', ' diachi_tinhtp', 'Column1', ' lopsh'], errors='ignore')  # Xóa cột không cần thiết\n",
    "y = df['dtbhk']"
   ]
  },
  {
   "cell_type": "code",
   "execution_count": 27,
   "metadata": {
    "executionInfo": {
     "elapsed": 382,
     "status": "ok",
     "timestamp": 1733221995925,
     "user": {
      "displayName": "Tam Huynh",
      "userId": "02513168769586567278"
     },
     "user_tz": -420
    },
    "id": "WjXHsrmhCYSC"
   },
   "outputs": [],
   "source": [
    "X_train, X_test, y_train, y_test = train_test_split(X, y, test_size=0.2, random_state=42)"
   ]
  },
  {
   "cell_type": "code",
   "execution_count": 28,
   "metadata": {
    "colab": {
     "base_uri": "https://localhost:8080/",
     "height": 80
    },
    "executionInfo": {
     "elapsed": 533,
     "status": "ok",
     "timestamp": 1733221997787,
     "user": {
      "displayName": "Tam Huynh",
      "userId": "02513168769586567278"
     },
     "user_tz": -420
    },
    "id": "-_1QF_4TChga",
    "outputId": "1c7beb46-a53e-4924-ba72-baf208e720b3"
   },
   "outputs": [
    {
     "data": {
      "text/html": [
       "<style>#sk-container-id-3 {color: black;}#sk-container-id-3 pre{padding: 0;}#sk-container-id-3 div.sk-toggleable {background-color: white;}#sk-container-id-3 label.sk-toggleable__label {cursor: pointer;display: block;width: 100%;margin-bottom: 0;padding: 0.3em;box-sizing: border-box;text-align: center;}#sk-container-id-3 label.sk-toggleable__label-arrow:before {content: \"▸\";float: left;margin-right: 0.25em;color: #696969;}#sk-container-id-3 label.sk-toggleable__label-arrow:hover:before {color: black;}#sk-container-id-3 div.sk-estimator:hover label.sk-toggleable__label-arrow:before {color: black;}#sk-container-id-3 div.sk-toggleable__content {max-height: 0;max-width: 0;overflow: hidden;text-align: left;background-color: #f0f8ff;}#sk-container-id-3 div.sk-toggleable__content pre {margin: 0.2em;color: black;border-radius: 0.25em;background-color: #f0f8ff;}#sk-container-id-3 input.sk-toggleable__control:checked~div.sk-toggleable__content {max-height: 200px;max-width: 100%;overflow: auto;}#sk-container-id-3 input.sk-toggleable__control:checked~label.sk-toggleable__label-arrow:before {content: \"▾\";}#sk-container-id-3 div.sk-estimator input.sk-toggleable__control:checked~label.sk-toggleable__label {background-color: #d4ebff;}#sk-container-id-3 div.sk-label input.sk-toggleable__control:checked~label.sk-toggleable__label {background-color: #d4ebff;}#sk-container-id-3 input.sk-hidden--visually {border: 0;clip: rect(1px 1px 1px 1px);clip: rect(1px, 1px, 1px, 1px);height: 1px;margin: -1px;overflow: hidden;padding: 0;position: absolute;width: 1px;}#sk-container-id-3 div.sk-estimator {font-family: monospace;background-color: #f0f8ff;border: 1px dotted black;border-radius: 0.25em;box-sizing: border-box;margin-bottom: 0.5em;}#sk-container-id-3 div.sk-estimator:hover {background-color: #d4ebff;}#sk-container-id-3 div.sk-parallel-item::after {content: \"\";width: 100%;border-bottom: 1px solid gray;flex-grow: 1;}#sk-container-id-3 div.sk-label:hover label.sk-toggleable__label {background-color: #d4ebff;}#sk-container-id-3 div.sk-serial::before {content: \"\";position: absolute;border-left: 1px solid gray;box-sizing: border-box;top: 0;bottom: 0;left: 50%;z-index: 0;}#sk-container-id-3 div.sk-serial {display: flex;flex-direction: column;align-items: center;background-color: white;padding-right: 0.2em;padding-left: 0.2em;position: relative;}#sk-container-id-3 div.sk-item {position: relative;z-index: 1;}#sk-container-id-3 div.sk-parallel {display: flex;align-items: stretch;justify-content: center;background-color: white;position: relative;}#sk-container-id-3 div.sk-item::before, #sk-container-id-3 div.sk-parallel-item::before {content: \"\";position: absolute;border-left: 1px solid gray;box-sizing: border-box;top: 0;bottom: 0;left: 50%;z-index: -1;}#sk-container-id-3 div.sk-parallel-item {display: flex;flex-direction: column;z-index: 1;position: relative;background-color: white;}#sk-container-id-3 div.sk-parallel-item:first-child::after {align-self: flex-end;width: 50%;}#sk-container-id-3 div.sk-parallel-item:last-child::after {align-self: flex-start;width: 50%;}#sk-container-id-3 div.sk-parallel-item:only-child::after {width: 0;}#sk-container-id-3 div.sk-dashed-wrapped {border: 1px dashed gray;margin: 0 0.4em 0.5em 0.4em;box-sizing: border-box;padding-bottom: 0.4em;background-color: white;}#sk-container-id-3 div.sk-label label {font-family: monospace;font-weight: bold;display: inline-block;line-height: 1.2em;}#sk-container-id-3 div.sk-label-container {text-align: center;}#sk-container-id-3 div.sk-container {/* jupyter's `normalize.less` sets `[hidden] { display: none; }` but bootstrap.min.css set `[hidden] { display: none !important; }` so we also need the `!important` here to be able to override the default hidden behavior on the sphinx rendered scikit-learn.org. See: https://github.com/scikit-learn/scikit-learn/issues/21755 */display: inline-block !important;position: relative;}#sk-container-id-3 div.sk-text-repr-fallback {display: none;}</style><div id=\"sk-container-id-3\" class=\"sk-top-container\"><div class=\"sk-text-repr-fallback\"><pre>LinearRegression()</pre><b>In a Jupyter environment, please rerun this cell to show the HTML representation or trust the notebook. <br />On GitHub, the HTML representation is unable to render, please try loading this page with nbviewer.org.</b></div><div class=\"sk-container\" hidden><div class=\"sk-item\"><div class=\"sk-estimator sk-toggleable\"><input class=\"sk-toggleable__control sk-hidden--visually\" id=\"sk-estimator-id-3\" type=\"checkbox\" checked><label for=\"sk-estimator-id-3\" class=\"sk-toggleable__label sk-toggleable__label-arrow\">LinearRegression</label><div class=\"sk-toggleable__content\"><pre>LinearRegression()</pre></div></div></div></div></div>"
      ],
      "text/plain": [
       "LinearRegression()"
      ]
     },
     "execution_count": 28,
     "metadata": {},
     "output_type": "execute_result"
    }
   ],
   "source": [
    "# Khởi tạo mô hình hồi quy tuyến tính\n",
    "lr_model = LinearRegression()\n",
    "\n",
    "# Huấn luyện mô hình\n",
    "lr_model.fit(X_train, y_train)"
   ]
  },
  {
   "cell_type": "code",
   "execution_count": 29,
   "metadata": {
    "colab": {
     "base_uri": "https://localhost:8080/"
    },
    "executionInfo": {
     "elapsed": 326,
     "status": "ok",
     "timestamp": 1733222000928,
     "user": {
      "displayName": "Tam Huynh",
      "userId": "02513168769586567278"
     },
     "user_tz": -420
    },
    "id": "ebifRgbTCdip",
    "outputId": "3229a026-2302-44e0-acf7-317013560618"
   },
   "outputs": [
    {
     "name": "stdout",
     "output_type": "stream",
     "text": [
      "Mean Absolute Error (MAE): 0.9144273316818842\n",
      "Mean Squared Error (MSE): 1.792692656017364\n",
      "Root Mean Squared Error (RMSE): 1.3389147306745728\n",
      "R^2 Score: 0.5175107420501133\n"
     ]
    }
   ],
   "source": [
    "# tập Test\n",
    "y_pred = lr_model.predict(X_test)\n",
    "\n",
    "# Đánh giá\n",
    "mae = mean_absolute_error(y_test, y_pred)\n",
    "mse = mean_squared_error(y_test, y_pred)\n",
    "rmse = np.sqrt(mse)\n",
    "r2 = r2_score(y_test, y_pred)\n",
    "\n",
    "print(f\"Mean Absolute Error (MAE): {mae}\")\n",
    "print(f\"Mean Squared Error (MSE): {mse}\")\n",
    "print(f\"Root Mean Squared Error (RMSE): {rmse}\")\n",
    "print(f\"R^2 Score: {r2}\")"
   ]
  },
  {
   "cell_type": "code",
   "execution_count": 30,
   "metadata": {
    "colab": {
     "base_uri": "https://localhost:8080/"
    },
    "executionInfo": {
     "elapsed": 348,
     "status": "ok",
     "timestamp": 1733222084050,
     "user": {
      "displayName": "Tam Huynh",
      "userId": "02513168769586567278"
     },
     "user_tz": -420
    },
    "id": "hUU5VwfHCiGp",
    "outputId": "db2a8207-e736-4f4f-e615-29b9434de21c"
   },
   "outputs": [
    {
     "name": "stdout",
     "output_type": "stream",
     "text": [
      "               Feature  Importance\n",
      "6               dtbhk2    0.754629\n",
      "3             gioitinh   -0.219473\n",
      "5            tinhtrang   -0.156422\n",
      "0                hocky   -0.155150\n",
      "4              khoahoc   -0.058920\n",
      "9   chuyennganh2_mahoa   -0.020701\n",
      "7           khoa_mahoa    0.009033\n",
      "8           hedt_mahoa    0.008545\n",
      "1               namhoc    0.006690\n",
      "2               sotchk   -0.002412\n"
     ]
    }
   ],
   "source": [
    "# Lấy hệ số hồi quy (tầm quan trọng của các đặc trưng)\n",
    "feature_importances = lr_model.coef_\n",
    "\n",
    "# Tạo DataFrame để xem tầm quan trọng của từng đặc trưng\n",
    "import pandas as pd\n",
    "\n",
    "feature_importance_df = pd.DataFrame({\n",
    "    'Feature': X_train.columns,\n",
    "    'Importance': feature_importances\n",
    "}).sort_values(by='Importance', key=abs, ascending=False)\n",
    "\n",
    "print(feature_importance_df)\n"
   ]
  },
  {
   "cell_type": "code",
   "execution_count": 31,
   "metadata": {
    "executionInfo": {
     "elapsed": 334,
     "status": "ok",
     "timestamp": 1733222163015,
     "user": {
      "displayName": "Tam Huynh",
      "userId": "02513168769586567278"
     },
     "user_tz": -420
    },
    "id": "r6awoX4eClFy"
   },
   "outputs": [],
   "source": [
    "test_row = pd.DataFrame({\n",
    "    'hocky': [2.0],\n",
    "    'namhoc': [2021.0],\n",
    "    'sotchk': [21.0],\n",
    "    ' gioitinh': [1.0],\n",
    "    ' khoahoc': [11.0],\n",
    "    ' tinhtrang': [1.0],\n",
    "    'dtbhk2': [5],\n",
    "    ' khoa_mahoa': [2.0],\n",
    "    ' hedt_mahoa': [1.0],\n",
    "    ' chuyennganh2_mahoa': [4.0]\n",
    "})"
   ]
  },
  {
   "cell_type": "code",
   "execution_count": 32,
   "metadata": {
    "colab": {
     "base_uri": "https://localhost:8080/"
    },
    "executionInfo": {
     "elapsed": 319,
     "status": "ok",
     "timestamp": 1733222164419,
     "user": {
      "displayName": "Tam Huynh",
      "userId": "02513168769586567278"
     },
     "user_tz": -420
    },
    "id": "0_wPzULeCnii",
    "outputId": "44b8ed4f-5b76-4bc7-d7fd-12ce1b96a97f"
   },
   "outputs": [
    {
     "name": "stdout",
     "output_type": "stream",
     "text": [
      "Dự đoán DTBHK: 5.52\n"
     ]
    }
   ],
   "source": [
    "predicted_dtb = lr_model.predict(test_row)\n",
    "print(f\"Dự đoán DTBHK: {predicted_dtb[0]:.2f}\")"
   ]
  },
  {
   "cell_type": "code",
   "execution_count": 33,
   "metadata": {
    "colab": {
     "base_uri": "https://localhost:8080/"
    },
    "executionInfo": {
     "elapsed": 328,
     "status": "ok",
     "timestamp": 1733222268761,
     "user": {
      "displayName": "Tam Huynh",
      "userId": "02513168769586567278"
     },
     "user_tz": -420
    },
    "id": "n70C3IF_CpVh",
    "outputId": "0d327883-04ba-49d6-81ef-565a07029a6e"
   },
   "outputs": [
    {
     "data": {
      "text/plain": [
       "['../models/linear_regression_model.pkl']"
      ]
     },
     "execution_count": 33,
     "metadata": {},
     "output_type": "execute_result"
    }
   ],
   "source": [
    "joblib.dump(lr_model, '../models/linear_regression_model.pkl')\n",
    "# rf_model = joblib.load('random_forest_dtbhk_model.pkl')"
   ]
  }
 ],
 "metadata": {
  "colab": {
   "authorship_tag": "ABX9TyP71Rgg7XoZkP4uu44j4gWH",
   "provenance": []
  },
  "kernelspec": {
   "display_name": ".venv",
   "language": "python",
   "name": "python3"
  },
  "language_info": {
   "codemirror_mode": {
    "name": "ipython",
    "version": 3
   },
   "file_extension": ".py",
   "mimetype": "text/x-python",
   "name": "python",
   "nbconvert_exporter": "python",
   "pygments_lexer": "ipython3",
   "version": "3.12.0"
  }
 },
 "nbformat": 4,
 "nbformat_minor": 0
}
