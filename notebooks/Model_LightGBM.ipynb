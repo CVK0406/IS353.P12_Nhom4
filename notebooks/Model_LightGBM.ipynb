{
 "cells": [
  {
   "cell_type": "code",
   "execution_count": 7,
   "metadata": {
    "colab": {
     "base_uri": "https://localhost:8080/"
    },
    "executionInfo": {
     "elapsed": 9391,
     "status": "ok",
     "timestamp": 1733222317171,
     "user": {
      "displayName": "Tam Huynh",
      "userId": "02513168769586567278"
     },
     "user_tz": -420
    },
    "id": "iZK6MDzHXp2H",
    "outputId": "5e530915-ab26-4b39-d78b-8a9a3aaefbd5"
   },
   "outputs": [],
   "source": [
    "import pandas as pd\n",
    "import numpy as np\n",
    "from sklearn.model_selection import train_test_split\n",
    "from sklearn.metrics import mean_absolute_error, mean_squared_error, r2_score\n",
    "from sklearn.preprocessing import OrdinalEncoder\n",
    "import matplotlib.pyplot as plt\n",
    "import joblib\n",
    "from lightgbm import LGBMRegressor"
   ]
  },
  {
   "cell_type": "code",
   "execution_count": 8,
   "metadata": {
    "executionInfo": {
     "elapsed": 2324,
     "status": "ok",
     "timestamp": 1733222356397,
     "user": {
      "displayName": "Tam Huynh",
      "userId": "02513168769586567278"
     },
     "user_tz": -420
    },
    "id": "7k0-DtuZCGup"
   },
   "outputs": [],
   "source": [
    "df = pd.read_csv(\"../data/processed/final_data.csv\")"
   ]
  },
  {
   "cell_type": "code",
   "execution_count": 9,
   "metadata": {
    "colab": {
     "base_uri": "https://localhost:8080/"
    },
    "executionInfo": {
     "elapsed": 390,
     "status": "ok",
     "timestamp": 1733222359257,
     "user": {
      "displayName": "Tam Huynh",
      "userId": "02513168769586567278"
     },
     "user_tz": -420
    },
    "id": "sVpDe13aCJnC",
    "outputId": "03ea57ad-c744-4217-83ee-545f2148ccad"
   },
   "outputs": [
    {
     "name": "stdout",
     "output_type": "stream",
     "text": [
      "                                       mssv  hocky  namhoc  dtbhk  sotchk  \\\n",
      "0  0000AC05XPvAibaEXe9B2tolTZ0JLoBGbkQixQS6    2.0  2021.0   8.28    21.0   \n",
      "1  0000AC05XPvAibaEXe9B2tolTZ0JLoBGbkQixQS6    1.0  2022.0   7.56    16.0   \n",
      "2  0001EB57XPvAibaEXe/twT+sf632fUXnsgPGeB4G    2.0  2019.0   9.00    21.0   \n",
      "3  0001EB57XPvAibaEXe/twT+sf632fUXnsgPGeB4G    1.0  2020.0   9.11    15.0   \n",
      "4  0001EB57XPvAibaEXe/twT+sf632fUXnsgPGeB4G    2.0  2020.0   8.75    19.0   \n",
      "\n",
      "        id   namsinh   gioitinh     noisinh      lopsh   khoahoc   tinhtrang  \\\n",
      "0      NaN       NaN        NaN         NaN        NaN       NaN         NaN   \n",
      "1      NaN       NaN        NaN         NaN        NaN       NaN         NaN   \n",
      "2  18570.0    2001.0        0.0   'Nghệ An'   TMĐT2019      14.0         1.0   \n",
      "3  18570.0    2001.0        0.0   'Nghệ An'   TMĐT2019      14.0         1.0   \n",
      "4  18570.0    2001.0        0.0   'Nghệ An'   TMĐT2019      14.0         1.0   \n",
      "\n",
      "     diachi_tinhtp Column1  dtbhk2   khoa_mahoa   hedt_mahoa  \\\n",
      "0              NaN     NaN    7.79          6.0          5.0   \n",
      "1              NaN     NaN    8.28          6.0          5.0   \n",
      "2   'Tỉnh Gia Lai'     NaN    8.84          1.0          2.0   \n",
      "3   'Tỉnh Gia Lai'     NaN    9.00          1.0          2.0   \n",
      "4   'Tỉnh Gia Lai'     NaN    9.11          1.0          2.0   \n",
      "\n",
      "    chuyennganh2_mahoa  \n",
      "0                 12.0  \n",
      "1                 12.0  \n",
      "2                  9.0  \n",
      "3                  9.0  \n",
      "4                  9.0  \n"
     ]
    }
   ],
   "source": [
    "ordinal_features = [' khoa', ' hedt', ' chuyennganh2']\n",
    "\n",
    "df[ordinal_features] = df[ordinal_features].fillna('Unknown')\n",
    "\n",
    "encoder = OrdinalEncoder()\n",
    "df_encoded = encoder.fit_transform(df[ordinal_features])\n",
    "\n",
    "df_encoded = pd.DataFrame(df_encoded, columns=[f\"{col}_mahoa\" for col in ordinal_features], index=df.index)\n",
    "\n",
    "df = pd.concat([df, df_encoded], axis=1)\n",
    "\n",
    "df.drop(columns=ordinal_features, inplace=True)\n",
    "\n",
    "\n",
    "print(df.head())"
   ]
  },
  {
   "cell_type": "code",
   "execution_count": 10,
   "metadata": {
    "executionInfo": {
     "elapsed": 343,
     "status": "ok",
     "timestamp": 1733222362123,
     "user": {
      "displayName": "Tam Huynh",
      "userId": "02513168769586567278"
     },
     "user_tz": -420
    },
    "id": "EnhqWUmfCKUJ"
   },
   "outputs": [],
   "source": [
    "# Xử lý NaN\n",
    "df = df.fillna(df.median(numeric_only=True))\n",
    "df = df.fillna(df.mode().iloc[0])\n",
    "\n",
    "# Chọn biến đầu vào và đầu ra\n",
    "X = df.drop(columns=['nhom', 'dtbhk', 'id', ' namsinh', 'mssv', ' noisinh', ' diachi_tinhtp', 'Column1', ' lopsh'], errors='ignore')  # Xóa cột không cần thiết\n",
    "y = df['dtbhk']"
   ]
  },
  {
   "cell_type": "code",
   "execution_count": 11,
   "metadata": {
    "executionInfo": {
     "elapsed": 324,
     "status": "ok",
     "timestamp": 1733222363363,
     "user": {
      "displayName": "Tam Huynh",
      "userId": "02513168769586567278"
     },
     "user_tz": -420
    },
    "id": "WjXHsrmhCYSC"
   },
   "outputs": [],
   "source": [
    "X_train, X_test, y_train, y_test = train_test_split(X, y, test_size=0.2, random_state=42)"
   ]
  },
  {
   "cell_type": "code",
   "execution_count": 12,
   "metadata": {
    "colab": {
     "base_uri": "https://localhost:8080/",
     "height": 202
    },
    "executionInfo": {
     "elapsed": 417,
     "status": "ok",
     "timestamp": 1733222365302,
     "user": {
      "displayName": "Tam Huynh",
      "userId": "02513168769586567278"
     },
     "user_tz": -420
    },
    "id": "-_1QF_4TChga",
    "outputId": "6a648dba-f2c3-4875-fce7-e768dff6afa1"
   },
   "outputs": [
    {
     "name": "stdout",
     "output_type": "stream",
     "text": [
      "[LightGBM] [Warning] Found whitespace in feature_names, replace with underlines\n",
      "[LightGBM] [Info] Auto-choosing row-wise multi-threading, the overhead of testing was 0.001378 seconds.\n",
      "You can set `force_row_wise=true` to remove the overhead.\n",
      "And if memory is not enough, you can set `force_col_wise=true`.\n",
      "[LightGBM] [Info] Total Bins 340\n",
      "[LightGBM] [Info] Number of data points in the train set: 52911, number of used features: 10\n",
      "[LightGBM] [Info] Start training from score 6.801415\n"
     ]
    },
    {
     "data": {
      "text/html": [
       "<style>#sk-container-id-1 {color: black;}#sk-container-id-1 pre{padding: 0;}#sk-container-id-1 div.sk-toggleable {background-color: white;}#sk-container-id-1 label.sk-toggleable__label {cursor: pointer;display: block;width: 100%;margin-bottom: 0;padding: 0.3em;box-sizing: border-box;text-align: center;}#sk-container-id-1 label.sk-toggleable__label-arrow:before {content: \"▸\";float: left;margin-right: 0.25em;color: #696969;}#sk-container-id-1 label.sk-toggleable__label-arrow:hover:before {color: black;}#sk-container-id-1 div.sk-estimator:hover label.sk-toggleable__label-arrow:before {color: black;}#sk-container-id-1 div.sk-toggleable__content {max-height: 0;max-width: 0;overflow: hidden;text-align: left;background-color: #f0f8ff;}#sk-container-id-1 div.sk-toggleable__content pre {margin: 0.2em;color: black;border-radius: 0.25em;background-color: #f0f8ff;}#sk-container-id-1 input.sk-toggleable__control:checked~div.sk-toggleable__content {max-height: 200px;max-width: 100%;overflow: auto;}#sk-container-id-1 input.sk-toggleable__control:checked~label.sk-toggleable__label-arrow:before {content: \"▾\";}#sk-container-id-1 div.sk-estimator input.sk-toggleable__control:checked~label.sk-toggleable__label {background-color: #d4ebff;}#sk-container-id-1 div.sk-label input.sk-toggleable__control:checked~label.sk-toggleable__label {background-color: #d4ebff;}#sk-container-id-1 input.sk-hidden--visually {border: 0;clip: rect(1px 1px 1px 1px);clip: rect(1px, 1px, 1px, 1px);height: 1px;margin: -1px;overflow: hidden;padding: 0;position: absolute;width: 1px;}#sk-container-id-1 div.sk-estimator {font-family: monospace;background-color: #f0f8ff;border: 1px dotted black;border-radius: 0.25em;box-sizing: border-box;margin-bottom: 0.5em;}#sk-container-id-1 div.sk-estimator:hover {background-color: #d4ebff;}#sk-container-id-1 div.sk-parallel-item::after {content: \"\";width: 100%;border-bottom: 1px solid gray;flex-grow: 1;}#sk-container-id-1 div.sk-label:hover label.sk-toggleable__label {background-color: #d4ebff;}#sk-container-id-1 div.sk-serial::before {content: \"\";position: absolute;border-left: 1px solid gray;box-sizing: border-box;top: 0;bottom: 0;left: 50%;z-index: 0;}#sk-container-id-1 div.sk-serial {display: flex;flex-direction: column;align-items: center;background-color: white;padding-right: 0.2em;padding-left: 0.2em;position: relative;}#sk-container-id-1 div.sk-item {position: relative;z-index: 1;}#sk-container-id-1 div.sk-parallel {display: flex;align-items: stretch;justify-content: center;background-color: white;position: relative;}#sk-container-id-1 div.sk-item::before, #sk-container-id-1 div.sk-parallel-item::before {content: \"\";position: absolute;border-left: 1px solid gray;box-sizing: border-box;top: 0;bottom: 0;left: 50%;z-index: -1;}#sk-container-id-1 div.sk-parallel-item {display: flex;flex-direction: column;z-index: 1;position: relative;background-color: white;}#sk-container-id-1 div.sk-parallel-item:first-child::after {align-self: flex-end;width: 50%;}#sk-container-id-1 div.sk-parallel-item:last-child::after {align-self: flex-start;width: 50%;}#sk-container-id-1 div.sk-parallel-item:only-child::after {width: 0;}#sk-container-id-1 div.sk-dashed-wrapped {border: 1px dashed gray;margin: 0 0.4em 0.5em 0.4em;box-sizing: border-box;padding-bottom: 0.4em;background-color: white;}#sk-container-id-1 div.sk-label label {font-family: monospace;font-weight: bold;display: inline-block;line-height: 1.2em;}#sk-container-id-1 div.sk-label-container {text-align: center;}#sk-container-id-1 div.sk-container {/* jupyter's `normalize.less` sets `[hidden] { display: none; }` but bootstrap.min.css set `[hidden] { display: none !important; }` so we also need the `!important` here to be able to override the default hidden behavior on the sphinx rendered scikit-learn.org. See: https://github.com/scikit-learn/scikit-learn/issues/21755 */display: inline-block !important;position: relative;}#sk-container-id-1 div.sk-text-repr-fallback {display: none;}</style><div id=\"sk-container-id-1\" class=\"sk-top-container\"><div class=\"sk-text-repr-fallback\"><pre>LGBMRegressor(random_state=42)</pre><b>In a Jupyter environment, please rerun this cell to show the HTML representation or trust the notebook. <br />On GitHub, the HTML representation is unable to render, please try loading this page with nbviewer.org.</b></div><div class=\"sk-container\" hidden><div class=\"sk-item\"><div class=\"sk-estimator sk-toggleable\"><input class=\"sk-toggleable__control sk-hidden--visually\" id=\"sk-estimator-id-1\" type=\"checkbox\" checked><label for=\"sk-estimator-id-1\" class=\"sk-toggleable__label sk-toggleable__label-arrow\">LGBMRegressor</label><div class=\"sk-toggleable__content\"><pre>LGBMRegressor(random_state=42)</pre></div></div></div></div></div>"
      ],
      "text/plain": [
       "LGBMRegressor(random_state=42)"
      ]
     },
     "execution_count": 12,
     "metadata": {},
     "output_type": "execute_result"
    }
   ],
   "source": [
    "# Khởi tạo mô hình LightGBM\n",
    "lgbm_model = LGBMRegressor(n_estimators=100, random_state=42)\n",
    "\n",
    "# Huấn luyện mô hình\n",
    "lgbm_model.fit(X_train, y_train)"
   ]
  },
  {
   "cell_type": "code",
   "execution_count": 13,
   "metadata": {
    "colab": {
     "base_uri": "https://localhost:8080/"
    },
    "executionInfo": {
     "elapsed": 331,
     "status": "ok",
     "timestamp": 1733222368028,
     "user": {
      "displayName": "Tam Huynh",
      "userId": "02513168769586567278"
     },
     "user_tz": -420
    },
    "id": "ebifRgbTCdip",
    "outputId": "c5528729-d132-4a58-f25f-cf09717de89b"
   },
   "outputs": [
    {
     "name": "stdout",
     "output_type": "stream",
     "text": [
      "Mean Absolute Error (MAE): 0.8122981521117019\n",
      "Mean Squared Error (MSE): 1.4095839845268379\n",
      "Root Mean Squared Error (RMSE): 1.1872590216658023\n",
      "R^2 Score: 0.6206214554237506\n"
     ]
    }
   ],
   "source": [
    "# tập Test\n",
    "y_pred = lgbm_model.predict(X_test)\n",
    "\n",
    "# Đánh giá\n",
    "mae = mean_absolute_error(y_test, y_pred)\n",
    "mse = mean_squared_error(y_test, y_pred)\n",
    "rmse = np.sqrt(mse)\n",
    "r2 = r2_score(y_test, y_pred)\n",
    "\n",
    "print(f\"Mean Absolute Error (MAE): {mae}\")\n",
    "print(f\"Mean Squared Error (MSE): {mse}\")\n",
    "print(f\"Root Mean Squared Error (RMSE): {rmse}\")\n",
    "print(f\"R^2 Score: {r2}\")"
   ]
  },
  {
   "cell_type": "code",
   "execution_count": 14,
   "metadata": {
    "colab": {
     "base_uri": "https://localhost:8080/",
     "height": 564
    },
    "executionInfo": {
     "elapsed": 566,
     "status": "ok",
     "timestamp": 1733222371017,
     "user": {
      "displayName": "Tam Huynh",
      "userId": "02513168769586567278"
     },
     "user_tz": -420
    },
    "id": "hUU5VwfHCiGp",
    "outputId": "537be264-5847-4242-a556-8c0e45eb1294"
   },
   "outputs": [
    {
     "data": {
      "image/png": "[encoded data removed]",
      "text/plain": [
       "<Figure size 1000x600 with 1 Axes>"
      ]
     },
     "metadata": {},
     "output_type": "display_data"
    }
   ],
   "source": [
    "feature_importances = lgbm_model.feature_importances_\n",
    "features = X.columns\n",
    "\n",
    "\n",
    "plt.figure(figsize=(10, 6))\n",
    "plt.barh(features, feature_importances, color='skyblue')\n",
    "plt.xlabel(\"Importance Score\")\n",
    "plt.ylabel(\"Features\")\n",
    "plt.title(\"Feature Importance in LightGBM\")\n",
    "plt.show()"
   ]
  },
  {
   "cell_type": "code",
   "execution_count": 15,
   "metadata": {
    "executionInfo": {
     "elapsed": 348,
     "status": "ok",
     "timestamp": 1733222375871,
     "user": {
      "displayName": "Tam Huynh",
      "userId": "02513168769586567278"
     },
     "user_tz": -420
    },
    "id": "r6awoX4eClFy"
   },
   "outputs": [],
   "source": [
    "test_row = pd.DataFrame({\n",
    "    'hocky': [2.0],\n",
    "    'namhoc': [2021.0],\n",
    "    'sotchk': [21.0],\n",
    "    ' gioitinh': [1.0],\n",
    "    ' khoahoc': [11.0],\n",
    "    ' tinhtrang': [1.0],\n",
    "    'dtbhk2': [5],\n",
    "    ' khoa_mahoa': [2.0],\n",
    "    ' hedt_mahoa': [1.0],\n",
    "    ' chuyennganh2_mahoa': [4.0]\n",
    "})"
   ]
  },
  {
   "cell_type": "code",
   "execution_count": 16,
   "metadata": {
    "colab": {
     "base_uri": "https://localhost:8080/"
    },
    "executionInfo": {
     "elapsed": 343,
     "status": "ok",
     "timestamp": 1733222377768,
     "user": {
      "displayName": "Tam Huynh",
      "userId": "02513168769586567278"
     },
     "user_tz": -420
    },
    "id": "0_wPzULeCnii",
    "outputId": "d17a5920-a66f-4e3c-c4b4-4cf1986590db"
   },
   "outputs": [
    {
     "name": "stdout",
     "output_type": "stream",
     "text": [
      "Dự đoán DTBHK: 5.59\n"
     ]
    }
   ],
   "source": [
    "predicted_dtb = lgbm_model.predict(test_row)\n",
    "print(f\"Dự đoán DTBHK: {predicted_dtb[0]:.2f}\")"
   ]
  },
  {
   "cell_type": "code",
   "execution_count": 17,
   "metadata": {
    "colab": {
     "base_uri": "https://localhost:8080/"
    },
    "executionInfo": {
     "elapsed": 361,
     "status": "ok",
     "timestamp": 1733222382295,
     "user": {
      "displayName": "Tam Huynh",
      "userId": "02513168769586567278"
     },
     "user_tz": -420
    },
    "id": "n70C3IF_CpVh",
    "outputId": "c0889ea8-eefb-4006-8371-778a4b86169d"
   },
   "outputs": [
    {
     "data": {
      "text/plain": [
       "['../models/light_gbm_model.pkl']"
      ]
     },
     "execution_count": 17,
     "metadata": {},
     "output_type": "execute_result"
    }
   ],
   "source": [
    "joblib.dump(lgbm_model, '../models/light_gbm_model.pkl')\n",
    "# rf_model = joblib.load('random_forest_dtbhk_model.pkl')"
   ]
  }
 ],
 "metadata": {
  "colab": {
   "authorship_tag": "ABX9TyOUBNxzsQb3tcsL2c27+/9I",
   "provenance": []
  },
  "kernelspec": {
   "display_name": ".venv",
   "language": "python",
   "name": "python3"
  },
  "language_info": {
   "codemirror_mode": {
    "name": "ipython",
    "version": 3
   },
   "file_extension": ".py",
   "mimetype": "text/x-python",
   "name": "python",
   "nbconvert_exporter": "python",
   "pygments_lexer": "ipython3",
   "version": "3.12.0"
  }
 },
 "nbformat": 4,
 "nbformat_minor": 0
}
